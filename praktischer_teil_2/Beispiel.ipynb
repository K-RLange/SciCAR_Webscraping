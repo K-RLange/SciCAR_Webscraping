{
 "cells": [
  {
   "cell_type": "code",
   "execution_count": null,
   "id": "initial_id",
   "metadata": {
    "collapsed": true
   },
   "outputs": [],
   "source": [
    "from selenium.webdriver.common.by import By\n",
    "import pyautogui\n",
    "import urllib\n",
    "import time\n",
    "from selenium import webdriver"
   ]
  },
  {
   "metadata": {},
   "cell_type": "markdown",
   "source": "Zunächst aktivieren wir unseren Webdriver.",
   "id": "7e19d17b92123216"
  },
  {
   "metadata": {},
   "cell_type": "code",
   "outputs": [],
   "execution_count": null,
   "source": "wd = webdriver.Chrome()",
   "id": "3c00b2d3b856ea74"
  },
  {
   "metadata": {},
   "cell_type": "markdown",
   "source": [
    "Jetzt wird es etwas kompliziert: Um alle Plenarsprotokolle der siebten und achten Wahlperiode zu scrapen, müssen wir mehrere Elemente finden und anklicken: Den Button, der ein Dropdownmenü für die Auswahl der Legislaturperiode öffnet und die entsprechende Legislaturperiode. Dafür verwenden wir wd.find_element, um die Elemente anhand ihrer Klasse oder ID zu finden und pyautogui, um zu scrollen, wenn wir müssen.\n",
    "\n",
    "Dann müssen wir die Dokumentennummer einfügen, die wir scrapen wollen, und den Button zum Suchen des Dokuments drücken. Schließlich müssen wir auf das Suchergebnis klicken, um zum PDF zu gelangen. Das Ganze packen wir in zwei Schleifen: Eine für die Wahlperiode (7 und 8) und eine für die Dokumentennummer (1 bis 5). Am Ende speichern wir das PDF mit der Wahlperiode und der Dokumentennummer als Dateinamen."
   ],
   "id": "3ad9070bb358f611"
  },
  {
   "metadata": {},
   "cell_type": "code",
   "outputs": [],
   "execution_count": null,
   "source": [
    "for wp in range(7, 8):\n",
    "    for doc_number in range(1, 3):\n",
    "        wd.get(\"https://parldok.thueringer-landtag.de/ParlDok/dokumentennummer\")\n",
    "        time.sleep(1)\n",
    "        drop_down = wd.find_element(By.ID, \"LegislaturperiodenList-button\")\n",
    "        drop_down.click()\n",
    "        wd.find_elements(By.CLASS_NAME, \"ui-menu-item\")[8-wp].click()\n",
    "        pyautogui.scroll(500)\n",
    "        wd.find_elements(By.CLASS_NAME, \"form-check-label\")[2].click()\n",
    "        pyautogui.scroll(-500)\n",
    "        element = wd.find_element(By.CLASS_NAME, \"btn-primary\")\n",
    "        wd.execute_script(\"return arguments[0].scrollIntoView(true);\", element)\n",
    "        wd.find_element(By.ID, \"DokumentenNummer\").clear()\n",
    "        wd.find_element(By.ID, \"DokumentenNummer\").send_keys(str(doc_number))\n",
    "        element.click()\n",
    "        time.sleep(0.5)\n",
    "        wd.find_element(By.CLASS_NAME, \"col-12\").click()\n",
    "        time.sleep(2)\n",
    "        response = urllib.request.urlopen(wd.current_url)\n",
    "        with open(f'{wp}_{doc_number}.pdf', 'wb') as f:\n",
    "            f.write(response.read())\n",
    "            \n",
    "wd.quit()"
   ],
   "id": "4c748ec6424dff94"
  }
 ],
 "metadata": {
  "kernelspec": {
   "display_name": "Python 3",
   "language": "python",
   "name": "python3"
  },
  "language_info": {
   "codemirror_mode": {
    "name": "ipython",
    "version": 2
   },
   "file_extension": ".py",
   "mimetype": "text/x-python",
   "name": "python",
   "nbconvert_exporter": "python",
   "pygments_lexer": "ipython2",
   "version": "2.7.6"
  }
 },
 "nbformat": 4,
 "nbformat_minor": 5
}
