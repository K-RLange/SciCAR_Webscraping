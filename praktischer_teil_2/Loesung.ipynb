{
 "cells": [
  {
   "cell_type": "code",
   "execution_count": null,
   "id": "initial_id",
   "metadata": {
    "collapsed": true
   },
   "outputs": [],
   "source": [
    "from selenium import webdriver\n",
    "from selenium.webdriver.common.by import By\n",
    "from selenium.webdriver.support.ui import WebDriverWait\n",
    "from selenium.webdriver.support import expected_conditions as EC"
   ]
  },
  {
   "metadata": {},
   "cell_type": "markdown",
   "source": "Zunächst starten wir Selenium und öffnen unsere Website und warten etwas, bis sie geladen hat",
   "id": "382990671d970626"
  },
  {
   "metadata": {},
   "cell_type": "code",
   "outputs": [],
   "execution_count": null,
   "source": [
    "driver = webdriver.Chrome()\n",
    "driver.get(\"https://quotes.toscrape.com/js/\")\n",
    "wait = WebDriverWait(driver, 2)"
   ],
   "id": "5d6bffad6a0214a5"
  },
  {
   "metadata": {},
   "cell_type": "markdown",
   "source": "Anschließend warten wir, bis alle Zitate auf der Seite geladen sind und speichern diese in einer Liste. Über diese Liste iterieren wir dann und extrahieren den Text und den Autor jedes Zitats. Danach klicken wir auf den \"Next\"-Button, um zur nächsten Seite zu gelangen. Dies wiederholen wir, bis kein \"Next\"-Button mehr vorhanden ist.",
   "id": "cce9250bb734e870"
  },
  {
   "metadata": {},
   "cell_type": "code",
   "outputs": [],
   "execution_count": null,
   "source": [
    "all_quotes = []\n",
    "while True:\n",
    "    quotes = wait.until(EC.presence_of_all_elements_located((By.CLASS_NAME, \"quote\")))\n",
    "\n",
    "    for quote in quotes:\n",
    "        text = quote.find_element(By.CLASS_NAME, \"text\").text\n",
    "        author = quote.find_element(By.CLASS_NAME, \"author\").text\n",
    "        all_quotes.append({\"text\": text, \"author\": author})\n",
    "\n",
    "    try:\n",
    "        next_button = driver.find_element(By.CSS_SELECTOR, \"li.next > a\")\n",
    "        next_button.click()\n",
    "    except:\n",
    "        break"
   ],
   "id": "547d58f8f05d8465"
  },
  {
   "metadata": {},
   "cell_type": "markdown",
   "source": "Zuletzt geben wir alle Zitate aus und schließen den Browser.",
   "id": "69d7990b430db7df"
  },
  {
   "metadata": {},
   "cell_type": "code",
   "outputs": [],
   "execution_count": null,
   "source": [
    "for q in all_quotes:\n",
    "    print(f\"{q['text']} — {q['author']}\")\n",
    "\n",
    "driver.quit()"
   ],
   "id": "12d9bf02ff4919e5"
  }
 ],
 "metadata": {
  "kernelspec": {
   "display_name": "Python 3",
   "language": "python",
   "name": "python3"
  },
  "language_info": {
   "codemirror_mode": {
    "name": "ipython",
    "version": 2
   },
   "file_extension": ".py",
   "mimetype": "text/x-python",
   "name": "python",
   "nbconvert_exporter": "python",
   "pygments_lexer": "ipython2",
   "version": "2.7.6"
  }
 },
 "nbformat": 4,
 "nbformat_minor": 5
}
