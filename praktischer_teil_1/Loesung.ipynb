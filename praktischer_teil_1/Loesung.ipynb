{
 "cells": [
  {
   "cell_type": "code",
   "execution_count": null,
   "id": "initial_id",
   "metadata": {
    "collapsed": true
   },
   "outputs": [],
   "source": [
    "import requests\n",
    "from bs4 import BeautifulSoup"
   ]
  },
  {
   "metadata": {},
   "cell_type": "markdown",
   "source": "Zuerst definieren wir Header, um unseren Bot zu kennzeichnen und rufen die Seite mit requests ab.",
   "id": "7a217c103a7b38ab"
  },
  {
   "metadata": {},
   "cell_type": "code",
   "outputs": [],
   "execution_count": null,
   "source": [
    "url = 'https://de.wikipedia.org/wiki/Netzwerk_Recherche'\n",
    "headers = {\n",
    "    'User-Agent': 'My User Agent',\n",
    "    'From': 'kalange@statistik.tu-dortmund.de'\n",
    "}\n",
    "response = requests.get(url, headers=headers)\n"
   ],
   "id": "b16139de145e8a14"
  },
  {
   "metadata": {},
   "cell_type": "markdown",
   "source": "Anschließend benutzen wir BeautifulSoup, um die HTML-Seite zu parsen und die Infobox zu extrahieren. Im Gegensatz zum Beispielcode hat diese hier die Klasse 'infobox'. Mit find_all(\"tr\") erhalten wir alle Zeilen der Tabelle in einer Liste.",
   "id": "35e9b6fe32b749ea"
  },
  {
   "metadata": {},
   "cell_type": "code",
   "outputs": [],
   "execution_count": null,
   "source": [
    "soup = BeautifulSoup(response.text, 'html.parser')\n",
    "infobox = soup.find('table', class_='infobox')\n",
    "rows = infobox.find_all('tr')"
   ],
   "id": "b6cb84520c5d0891"
  },
  {
   "metadata": {},
   "cell_type": "markdown",
   "source": "Zum Schluss iterieren wir über die Zeilen, extrahieren die Überschriften (th) und die Daten (td) und geben sie formatiert aus.",
   "id": "82cdff79e66a5c76"
  },
  {
   "metadata": {},
   "cell_type": "code",
   "outputs": [],
   "execution_count": null,
   "source": [
    "for row in rows:\n",
    "    header = row.find('th')\n",
    "    data = row.find('td')\n",
    "    if header and data:\n",
    "        print(header.get_text(), \":\", data.get_text())"
   ],
   "id": "b17bc44ff6346157"
  }
 ],
 "metadata": {
  "kernelspec": {
   "display_name": "Python 3",
   "language": "python",
   "name": "python3"
  },
  "language_info": {
   "codemirror_mode": {
    "name": "ipython",
    "version": 2
   },
   "file_extension": ".py",
   "mimetype": "text/x-python",
   "name": "python",
   "nbconvert_exporter": "python",
   "pygments_lexer": "ipython2",
   "version": "2.7.6"
  }
 },
 "nbformat": 4,
 "nbformat_minor": 5
}
